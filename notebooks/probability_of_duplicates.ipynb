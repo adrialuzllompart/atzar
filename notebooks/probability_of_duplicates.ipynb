{
 "cells": [
  {
   "cell_type": "code",
   "execution_count": 54,
   "metadata": {},
   "outputs": [],
   "source": [
    "import numpy as np\n",
    "import pandas as pd\n",
    "import matplotlib.pyplot as plt\n",
    "import seaborn as sns\n",
    "plt.style.use('ggplot')\n",
    "from scipy import stats"
   ]
  },
  {
   "cell_type": "code",
   "execution_count": 201,
   "metadata": {},
   "outputs": [],
   "source": [
    "n_starred = 6438\n",
    "n_atzar = 30\n",
    "n_weeks = 5"
   ]
  },
  {
   "cell_type": "code",
   "execution_count": 148,
   "metadata": {},
   "outputs": [],
   "source": [
    "songs = [f'{x+1}' for x in range(n_starred)]"
   ]
  },
  {
   "cell_type": "code",
   "execution_count": 203,
   "metadata": {},
   "outputs": [],
   "source": [
    "x = []\n",
    "\n",
    "for w in range(n_weeks):\n",
    "\n",
    "    dups = []\n",
    "\n",
    "    for i in range(5000):\n",
    "\n",
    "        results = []\n",
    "\n",
    "        for i in range(w+2):\n",
    "            chosen_songs = np.random.choice(songs, size=n_atzar, replace=False)\n",
    "            results.append({\n",
    "                'week': i+1,\n",
    "                'songs': chosen_songs\n",
    "            })\n",
    "\n",
    "        df = pd.DataFrame(results)\n",
    "        exploded = df.explode('songs')\n",
    "\n",
    "        n_duplicated = exploded.songs.duplicated().sum()\n",
    "        dups.append(n_duplicated)\n",
    "\n",
    "    mean = np.mean(dups)\n",
    "    pois = stats.poisson(mu=mean)\n",
    "    prob = 1 - pois.pmf(0)\n",
    "    x.append({\n",
    "        'n_weeks': w+2,\n",
    "        'prob_at_least_one_duplicate': prob\n",
    "    })"
   ]
  },
  {
   "cell_type": "code",
   "execution_count": 206,
   "metadata": {},
   "outputs": [],
   "source": [
    "df = pd.DataFrame(x)"
   ]
  },
  {
   "cell_type": "code",
   "execution_count": 210,
   "metadata": {},
   "outputs": [
    {
     "data": {
      "text/html": [
       "<div>\n",
       "<style scoped>\n",
       "    .dataframe tbody tr th:only-of-type {\n",
       "        vertical-align: middle;\n",
       "    }\n",
       "\n",
       "    .dataframe tbody tr th {\n",
       "        vertical-align: top;\n",
       "    }\n",
       "\n",
       "    .dataframe thead th {\n",
       "        text-align: right;\n",
       "    }\n",
       "</style>\n",
       "<table border=\"1\" class=\"dataframe\">\n",
       "  <thead>\n",
       "    <tr style=\"text-align: right;\">\n",
       "      <th></th>\n",
       "      <th>n_weeks</th>\n",
       "      <th>prob_at_least_one_duplicate</th>\n",
       "    </tr>\n",
       "  </thead>\n",
       "  <tbody>\n",
       "    <tr>\n",
       "      <td>0</td>\n",
       "      <td>2</td>\n",
       "      <td>0.136188</td>\n",
       "    </tr>\n",
       "    <tr>\n",
       "      <td>1</td>\n",
       "      <td>3</td>\n",
       "      <td>0.332222</td>\n",
       "    </tr>\n",
       "    <tr>\n",
       "      <td>2</td>\n",
       "      <td>4</td>\n",
       "      <td>0.578021</td>\n",
       "    </tr>\n",
       "    <tr>\n",
       "      <td>3</td>\n",
       "      <td>5</td>\n",
       "      <td>0.753748</td>\n",
       "    </tr>\n",
       "    <tr>\n",
       "      <td>4</td>\n",
       "      <td>6</td>\n",
       "      <td>0.876214</td>\n",
       "    </tr>\n",
       "  </tbody>\n",
       "</table>\n",
       "</div>"
      ],
      "text/plain": [
       "   n_weeks  prob_at_least_one_duplicate\n",
       "0        2                     0.136188\n",
       "1        3                     0.332222\n",
       "2        4                     0.578021\n",
       "3        5                     0.753748\n",
       "4        6                     0.876214"
      ]
     },
     "execution_count": 210,
     "metadata": {},
     "output_type": "execute_result"
    }
   ],
   "source": [
    "df"
   ]
  },
  {
   "cell_type": "code",
   "execution_count": 209,
   "metadata": {},
   "outputs": [
    {
     "data": {
      "image/png": "[encoded data removed]",
      "text/plain": [
       "<Figure size 648x432 with 1 Axes>"
      ]
     },
     "metadata": {},
     "output_type": "display_data"
    }
   ],
   "source": [
    "fig, ax = plt.subplots(figsize=(9,6))\n",
    "ax.scatter(df.n_weeks, df.prob_at_least_one_duplicate, s=500)\n",
    "ax.set_xticks(df.n_weeks)\n",
    "ax.set_xticklabels([f'{x}' for x in df.n_weeks])\n",
    "ax.set_xlabel('Weeks')\n",
    "ax.set_ylabel('Probability of at least one duplicate')\n",
    "ax.set_ylim(0,1)\n",
    "for w in df.n_weeks:\n",
    "    ax.axvline(w, ymax=df.prob_at_least_one_duplicate[w-2], lw=5);"
   ]
  }
 ],
 "metadata": {
  "kernelspec": {
   "display_name": "Python 3",
   "language": "python",
   "name": "python3"
  },
  "language_info": {
   "codemirror_mode": {
    "name": "ipython",
    "version": 3
   },
   "file_extension": ".py",
   "mimetype": "text/x-python",
   "name": "python",
   "nbconvert_exporter": "python",
   "pygments_lexer": "ipython3",
   "version": "3.7.4"
  },
  "toc": {
   "base_numbering": 1,
   "nav_menu": {},
   "number_sections": true,
   "sideBar": true,
   "skip_h1_title": false,
   "title_cell": "Table of Contents",
   "title_sidebar": "Contents",
   "toc_cell": false,
   "toc_position": {},
   "toc_section_display": true,
   "toc_window_display": false
  }
 },
 "nbformat": 4,
 "nbformat_minor": 4
}
